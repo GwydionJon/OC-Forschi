{
 "cells": [
  {
   "cell_type": "markdown",
   "id": "ddd653fa",
   "metadata": {},
   "source": [
    "# Introduction"
   ]
  },
  {
   "cell_type": "code",
   "execution_count": 1,
   "id": "3c0c9366",
   "metadata": {},
   "outputs": [],
   "source": [
    "from molecule_scanner import msc\n"
   ]
  },
  {
   "cell_type": "markdown",
   "id": "f71828d3",
   "metadata": {},
   "source": [
    "To use this program one must first setup the molecule that is to be scanned.\n",
    "\n",
    "For this one needs a valid `.xyz` file as well as the atom numbers for the center, the z-axis as well as the xz plane.\n",
    "\n",
    "Please note, that counting begins with 1 and not 0.\n",
    "\n",
    "\n",
    "\n",
    "\n",
    "\n"
   ]
  },
  {
   "cell_type": "markdown",
   "id": "0be41656",
   "metadata": {},
   "source": [
    "\n",
    "\n",
    "While this program allows you to set a specific directory as a workspace doing so is not advised.\n",
    "\n",
    "Managing the created files manually is not a good idea and should be avoided."
   ]
  },
  {
   "cell_type": "code",
   "execution_count": 2,
   "id": "a439ece3",
   "metadata": {},
   "outputs": [],
   "source": [
    "msc_test = msc(\n",
    "    # xyz_filepath=\"../test/data/nhc.xyz\",\n",
    "    xyz_filepath=\"../mad25_p.xyz\",\n",
    "    sphere_center_atom_ids=[1],\n",
    "    z_ax_atom_ids=[2],\n",
    "    xz_plane_atoms_ids=[1, 3, 9],\n",
    "    atoms_to_delete_ids=[1],\n",
    "    # working_dir=os.path.join(os.path.abspath(\".\"), \"test_directory\")\n",
    ")"
   ]
  },
  {
   "cell_type": "markdown",
   "id": "c2f8ff9c",
   "metadata": {},
   "source": [
    "To run a calculation at a single radius use the `.run_single` method.\n",
    "\n",
    "This method provides a bunch of additional parameters, most of which have decent default arguments.\n",
    "\n",
    "\n",
    "```sphere_radius (float): The radius of the sphere. \n",
    "\n",
    "displacement (float): Displacement of oriented molecule from sphere center in Angstrom (default 0.0)\n",
    "\n",
    "mesh_size (float): Mesh size for numerical integration (default 0.10)\n",
    "\n",
    "remove_H (bool): True/False Do not remove/remove H atoms from Vbur calculation (default True)\n",
    "\n",
    "orient_z (bool): True/False Molecule oriented along negative/positive Z-axis (default True)\n",
    "\n",
    "write_surf_files (bool): True/False Do not write/write files for top and bottom surfaces (default True)\n"
   ]
  },
  {
   "cell_type": "code",
   "execution_count": 3,
   "id": "fbde193b",
   "metadata": {},
   "outputs": [],
   "source": [
    "total_results_without_H, quadrant_results_without_H, octant_results_without_H = msc_test.run_single(sphere_radius=3.5)"
   ]
  },
  {
   "cell_type": "code",
   "execution_count": 4,
   "id": "40a43032",
   "metadata": {},
   "outputs": [],
   "source": [
    "total_results_with_H, quadrant_results_with_H, octant_results_with_H = msc_test.run_single(sphere_radius=3.5, remove_H=False)"
   ]
  },
  {
   "cell_type": "markdown",
   "id": "0e5679f1",
   "metadata": {},
   "source": [
    "To view results use the `print` command.\n",
    "You can also add additional text to make the output clearer."
   ]
  },
  {
   "cell_type": "code",
   "execution_count": 5,
   "id": "5bcdc976",
   "metadata": {},
   "outputs": [
    {
     "name": "stdout",
     "output_type": "stream",
     "text": [
      "{'free_volume': 55.7, 'buried_volume': 123.8, 'total_volume': 179.4, 'exact_volume': 179.6, 'percent_buried_volume': 69.0, 'percent_free_volume': 31.0, 'percent_total_volume': 99.9}\n"
     ]
    }
   ],
   "source": [
    "print(total_results_without_H)"
   ]
  },
  {
   "cell_type": "code",
   "execution_count": 6,
   "id": "fad56ac8",
   "metadata": {},
   "outputs": [
    {
     "name": "stdout",
     "output_type": "stream",
     "text": [
      "This is the result with H: \n",
      " {'free_volume': 53.0, 'buried_volume': 126.5, 'total_volume': 179.4, 'exact_volume': 179.6, 'percent_buried_volume': 70.5, 'percent_free_volume': 29.5, 'percent_total_volume': 99.9}\n"
     ]
    }
   ],
   "source": [
    "print(\"This is the result with H: \\n\", total_results_with_H)"
   ]
  },
  {
   "cell_type": "markdown",
   "id": "798e385f",
   "metadata": {},
   "source": [
    "The `run_range` function is designed to quickly scan a range of radii values.\n",
    "\n",
    "Do not be alarmed by the `No volume could be found` warning, this simply means that the desired radius was too small or too large.\n",
    "The program will function as desired even with a few values missing."
   ]
  },
  {
   "cell_type": "code",
   "execution_count": 7,
   "id": "d91fa2b7",
   "metadata": {},
   "outputs": [
    {
     "name": "stdout",
     "output_type": "stream",
     "text": [
      "No volume could be found for r = 1.4076923076923076, skipping output gathering.\n",
      "No volume could be found for r = 1.0, skipping output gathering.\n",
      "No volume could be found for r = 1.2717948717948717, skipping output gathering.\n",
      "No volume could be found for r = 1.1358974358974359, skipping output gathering.\n",
      "No volume could be found for r = 1.5435897435897434, skipping output gathering.\n",
      "No volume could be found for r = 1.8153846153846154, skipping output gathering.\n",
      "No volume could be found for r = 1.6794871794871793, skipping output gathering.\n",
      "No volume could be found for r = 6.3, skipping output gathering.\n"
     ]
    }
   ],
   "source": [
    "df_scan_1_63 = msc_test.run_range(r_min=1,r_max=6.3,nsteps=40, n_threads =-1)"
   ]
  },
  {
   "cell_type": "markdown",
   "id": "435c8a5c",
   "metadata": {},
   "source": [
    "With `.head()` one can take a look at the generated dataframe"
   ]
  },
  {
   "cell_type": "code",
   "execution_count": 8,
   "id": "b36ebd1a",
   "metadata": {},
   "outputs": [
    {
     "data": {
      "text/html": [
       "<div>\n",
       "<style scoped>\n",
       "    .dataframe tbody tr th:only-of-type {\n",
       "        vertical-align: middle;\n",
       "    }\n",
       "\n",
       "    .dataframe tbody tr th {\n",
       "        vertical-align: top;\n",
       "    }\n",
       "\n",
       "    .dataframe thead th {\n",
       "        text-align: right;\n",
       "    }\n",
       "</style>\n",
       "<table border=\"1\" class=\"dataframe\">\n",
       "  <thead>\n",
       "    <tr style=\"text-align: right;\">\n",
       "      <th></th>\n",
       "      <th>r</th>\n",
       "      <th>free_volume</th>\n",
       "      <th>buried_volume</th>\n",
       "      <th>total_volume</th>\n",
       "      <th>exact_volume</th>\n",
       "      <th>percent_buried_volume</th>\n",
       "      <th>percent_free_volume</th>\n",
       "      <th>percent_total_volume</th>\n",
       "    </tr>\n",
       "  </thead>\n",
       "  <tbody>\n",
       "    <tr>\n",
       "      <th>0</th>\n",
       "      <td>1.951282</td>\n",
       "      <td>11.5</td>\n",
       "      <td>19.5</td>\n",
       "      <td>31.1</td>\n",
       "      <td>31.1</td>\n",
       "      <td>62.8</td>\n",
       "      <td>37.2</td>\n",
       "      <td>99.8</td>\n",
       "    </tr>\n",
       "    <tr>\n",
       "      <th>1</th>\n",
       "      <td>2.087179</td>\n",
       "      <td>14.1</td>\n",
       "      <td>23.9</td>\n",
       "      <td>38.0</td>\n",
       "      <td>38.1</td>\n",
       "      <td>62.9</td>\n",
       "      <td>37.1</td>\n",
       "      <td>99.9</td>\n",
       "    </tr>\n",
       "    <tr>\n",
       "      <th>4</th>\n",
       "      <td>2.223077</td>\n",
       "      <td>17.0</td>\n",
       "      <td>29.0</td>\n",
       "      <td>46.0</td>\n",
       "      <td>46.0</td>\n",
       "      <td>63.1</td>\n",
       "      <td>36.9</td>\n",
       "      <td>99.9</td>\n",
       "    </tr>\n",
       "    <tr>\n",
       "      <th>2</th>\n",
       "      <td>2.358974</td>\n",
       "      <td>19.9</td>\n",
       "      <td>35.1</td>\n",
       "      <td>54.9</td>\n",
       "      <td>55.0</td>\n",
       "      <td>63.8</td>\n",
       "      <td>36.2</td>\n",
       "      <td>99.9</td>\n",
       "    </tr>\n",
       "    <tr>\n",
       "      <th>3</th>\n",
       "      <td>2.494872</td>\n",
       "      <td>23.0</td>\n",
       "      <td>41.9</td>\n",
       "      <td>65.0</td>\n",
       "      <td>65.0</td>\n",
       "      <td>64.6</td>\n",
       "      <td>35.4</td>\n",
       "      <td>99.9</td>\n",
       "    </tr>\n",
       "    <tr>\n",
       "      <th>5</th>\n",
       "      <td>2.630769</td>\n",
       "      <td>26.4</td>\n",
       "      <td>49.8</td>\n",
       "      <td>76.3</td>\n",
       "      <td>76.3</td>\n",
       "      <td>65.4</td>\n",
       "      <td>34.6</td>\n",
       "      <td>100.0</td>\n",
       "    </tr>\n",
       "    <tr>\n",
       "      <th>8</th>\n",
       "      <td>2.766667</td>\n",
       "      <td>30.0</td>\n",
       "      <td>58.6</td>\n",
       "      <td>88.6</td>\n",
       "      <td>88.7</td>\n",
       "      <td>66.2</td>\n",
       "      <td>33.8</td>\n",
       "      <td>99.9</td>\n",
       "    </tr>\n",
       "    <tr>\n",
       "      <th>6</th>\n",
       "      <td>2.902564</td>\n",
       "      <td>33.7</td>\n",
       "      <td>68.4</td>\n",
       "      <td>102.2</td>\n",
       "      <td>102.4</td>\n",
       "      <td>67.0</td>\n",
       "      <td>33.0</td>\n",
       "      <td>99.7</td>\n",
       "    </tr>\n",
       "    <tr>\n",
       "      <th>7</th>\n",
       "      <td>3.038462</td>\n",
       "      <td>38.0</td>\n",
       "      <td>79.4</td>\n",
       "      <td>117.4</td>\n",
       "      <td>117.5</td>\n",
       "      <td>67.7</td>\n",
       "      <td>32.3</td>\n",
       "      <td>99.9</td>\n",
       "    </tr>\n",
       "    <tr>\n",
       "      <th>9</th>\n",
       "      <td>3.174359</td>\n",
       "      <td>42.6</td>\n",
       "      <td>91.4</td>\n",
       "      <td>134.0</td>\n",
       "      <td>134.0</td>\n",
       "      <td>68.2</td>\n",
       "      <td>31.8</td>\n",
       "      <td>100.0</td>\n",
       "    </tr>\n",
       "  </tbody>\n",
       "</table>\n",
       "</div>"
      ],
      "text/plain": [
       "          r  free_volume  buried_volume  total_volume  exact_volume  \\\n",
       "0  1.951282         11.5           19.5          31.1          31.1   \n",
       "1  2.087179         14.1           23.9          38.0          38.1   \n",
       "4  2.223077         17.0           29.0          46.0          46.0   \n",
       "2  2.358974         19.9           35.1          54.9          55.0   \n",
       "3  2.494872         23.0           41.9          65.0          65.0   \n",
       "5  2.630769         26.4           49.8          76.3          76.3   \n",
       "8  2.766667         30.0           58.6          88.6          88.7   \n",
       "6  2.902564         33.7           68.4         102.2         102.4   \n",
       "7  3.038462         38.0           79.4         117.4         117.5   \n",
       "9  3.174359         42.6           91.4         134.0         134.0   \n",
       "\n",
       "   percent_buried_volume  percent_free_volume  percent_total_volume  \n",
       "0                   62.8                 37.2                  99.8  \n",
       "1                   62.9                 37.1                  99.9  \n",
       "4                   63.1                 36.9                  99.9  \n",
       "2                   63.8                 36.2                  99.9  \n",
       "3                   64.6                 35.4                  99.9  \n",
       "5                   65.4                 34.6                 100.0  \n",
       "8                   66.2                 33.8                  99.9  \n",
       "6                   67.0                 33.0                  99.7  \n",
       "7                   67.7                 32.3                  99.9  \n",
       "9                   68.2                 31.8                 100.0  "
      ]
     },
     "execution_count": 8,
     "metadata": {},
     "output_type": "execute_result"
    }
   ],
   "source": [
    "df_scan_1_63.head(10)"
   ]
  },
  {
   "cell_type": "markdown",
   "id": "4af2665f",
   "metadata": {},
   "source": [
    "This DataFrame object can also be directly saved as a csv file."
   ]
  },
  {
   "cell_type": "code",
   "execution_count": 9,
   "id": "04fb009d",
   "metadata": {},
   "outputs": [],
   "source": [
    "df_scan_1_63.to_csv(\"my_scv_name.csv\")"
   ]
  },
  {
   "cell_type": "markdown",
   "id": "7c6e7718",
   "metadata": {},
   "source": [
    "# Visualisation of the results"
   ]
  },
  {
   "cell_type": "markdown",
   "id": "a7f4fa23",
   "metadata": {},
   "source": [
    "The DataFrame object can be directly plotted in python."
   ]
  },
  {
   "cell_type": "markdown",
   "id": "045c48ad",
   "metadata": {},
   "source": [
    "When plotting in python one needs to pass the previously generated dataFrame to the `plot_graph` function.\n",
    "\n",
    "Additionally one can choose which columns from the DataFrame are used for the plot creation by adding `y_data=total_volume` or `x_data=free_volume`.\n",
    "Why one would do that I do not know.\n",
    "\n",
    "By default the `percent_buried_volume` is plotted against the radius."
   ]
  },
  {
   "cell_type": "code",
   "execution_count": 10,
   "id": "921165fd",
   "metadata": {},
   "outputs": [
    {
     "data": {
      "image/png": "[encoded data removed]",
      "text/plain": [
       "<Figure size 432x288 with 1 Axes>"
      ]
     },
     "metadata": {
      "needs_background": "light"
     },
     "output_type": "display_data"
    }
   ],
   "source": [
    "msc_test.plot_graph(df_scan_1_63)"
   ]
  },
  {
   "cell_type": "markdown",
   "id": "431876c4",
   "metadata": {},
   "source": [
    "To save a figure simply add the `save_fig=\"my_filename.png\"` option.\n",
    "\n",
    "It is also possible to change the x and y labels as well as the title.\n",
    "\n",
    "Many more options can be found under: https://pandas.pydata.org/docs/reference/api/pandas.DataFrame.plot.html"
   ]
  },
  {
   "cell_type": "code",
   "execution_count": 11,
   "id": "fc87732f",
   "metadata": {},
   "outputs": [
    {
     "data": {
      "image/png": "[encoded data removed]",
      "text/plain": [
       "<Figure size 432x288 with 1 Axes>"
      ]
     },
     "metadata": {
      "needs_background": "light"
     },
     "output_type": "display_data"
    }
   ],
   "source": [
    "msc_test.plot_graph(\n",
    "    df_scan_1_63,\n",
    "    save_file=\"buried_volume_scan_1_63.png\",\n",
    "    title=\"This is an example title that will also be saved\",\n",
    "    xlabel=\"Radius r\",\n",
    "    ylabel=\"% buried volume\",\n",
    ")"
   ]
  },
  {
   "cell_type": "code",
   "execution_count": null,
   "id": "7eb362fd",
   "metadata": {},
   "outputs": [],
   "source": []
  },
  {
   "cell_type": "code",
   "execution_count": null,
   "id": "1977327e",
   "metadata": {},
   "outputs": [],
   "source": []
  }
 ],
 "metadata": {
  "interpreter": {
   "hash": "a8dc3ff9539a16136eba353f0111f7894afca1786f85a985347756b1d8e57064"
  },
  "kernelspec": {
   "display_name": "Python 3.9.0 ('molecule_scanner')",
   "language": "python",
   "name": "python3"
  },
  "language_info": {
   "codemirror_mode": {
    "name": "ipython",
    "version": 3
   },
   "file_extension": ".py",
   "mimetype": "text/x-python",
   "name": "python",
   "nbconvert_exporter": "python",
   "pygments_lexer": "ipython3",
   "version": "3.9.0"
  }
 },
 "nbformat": 4,
 "nbformat_minor": 5
}
