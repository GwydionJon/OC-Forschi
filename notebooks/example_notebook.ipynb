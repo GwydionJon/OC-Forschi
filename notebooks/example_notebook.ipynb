{
 "cells": [
  {
   "cell_type": "markdown",
   "id": "ddd653fa",
   "metadata": {},
   "source": [
    "# Introduction"
   ]
  },
  {
   "cell_type": "code",
   "execution_count": null,
   "id": "3c0c9366",
   "metadata": {},
   "outputs": [],
   "source": [
    "from molecule_scanner import msc\n",
    "from molecule_scanner import set_data_directory"
   ]
  },
  {
   "cell_type": "markdown",
   "id": "f71828d3",
   "metadata": {},
   "source": [
    "To use this program one must first setup the molecule that is to be scanned.\n",
    "\n",
    "For this one needs a valid `.xyz` file as well as the atom numbers for the center, the z-axis as well as the xz plane.\n",
    "\n",
    "Please note, that counting begins with 1 and not 0.\n",
    "\n",
    "\n",
    "\n",
    "\n",
    "\n"
   ]
  },
  {
   "cell_type": "markdown",
   "id": "0be41656",
   "metadata": {},
   "source": [
    "\n",
    "\n",
    "While this program allows you to set a specific directory as a workspace doing so is not advised.\n",
    "\n",
    "Managing the created files manually is not a good idea and should be avoided."
   ]
  },
  {
   "cell_type": "code",
   "execution_count": null,
   "id": "9f3de4df",
   "metadata": {},
   "outputs": [],
   "source": [
    "set_data_directory(\"example_data\")"
   ]
  },
  {
   "cell_type": "code",
   "execution_count": null,
   "id": "a439ece3",
   "metadata": {},
   "outputs": [],
   "source": [
    "msc_test = msc(\n",
    "    # xyz_filepath=\"../test/data/nhc.xyz\",\n",
    "    xyz_filepath=\"mad25_p.xyz\",\n",
    "    sphere_center_atom_ids=[1],\n",
    "    z_ax_atom_ids=[2],\n",
    "    xz_plane_atoms_ids=[1, 3, 9],\n",
    "    atoms_to_delete_ids=[1],\n",
    "    # working_dir=os.path.join(os.path.abspath(\".\"), \"test_directory\")\n",
    ")"
   ]
  },
  {
   "cell_type": "markdown",
   "id": "c2f8ff9c",
   "metadata": {},
   "source": [
    "To run a calculation at a single radius use the `.run_single` method.\n",
    "\n",
    "This method provides a bunch of additional parameters, most of which have decent default arguments.\n",
    "\n",
    "\n",
    "```sphere_radius (float): The radius of the sphere. \n",
    "\n",
    "displacement (float): Displacement of oriented molecule from sphere center in Angstrom (default 0.0)\n",
    "\n",
    "mesh_size (float): Mesh size for numerical integration (default 0.10)\n",
    "\n",
    "remove_H (bool): True/False Do not remove/remove H atoms from Vbur calculation (default True)\n",
    "\n",
    "orient_z (bool): True/False Molecule oriented along negative/positive Z-axis (default True)\n",
    "\n",
    "write_surf_files (bool): True/False Do not write/write files for top and bottom surfaces (default True)\n"
   ]
  },
  {
   "cell_type": "code",
   "execution_count": null,
   "id": "fbde193b",
   "metadata": {},
   "outputs": [],
   "source": [
    "(\n",
    "    total_results_without_H,\n",
    "    quadrant_results_without_H,\n",
    "    octant_results_without_H,\n",
    ") = msc_test.run_single(sphere_radius=3.5)"
   ]
  },
  {
   "cell_type": "code",
   "execution_count": null,
   "id": "40a43032",
   "metadata": {},
   "outputs": [],
   "source": [
    "(\n",
    "    total_results_with_H,\n",
    "    quadrant_results_with_H,\n",
    "    octant_results_with_H,\n",
    ") = msc_test.run_single(sphere_radius=3.5, remove_H=False)"
   ]
  },
  {
   "cell_type": "markdown",
   "id": "0e5679f1",
   "metadata": {},
   "source": [
    "To view results use the `print` command.\n",
    "You can also add additional text to make the output clearer."
   ]
  },
  {
   "cell_type": "code",
   "execution_count": null,
   "id": "5bcdc976",
   "metadata": {},
   "outputs": [],
   "source": [
    "print(total_results_without_H)"
   ]
  },
  {
   "cell_type": "code",
   "execution_count": null,
   "id": "fad56ac8",
   "metadata": {},
   "outputs": [],
   "source": [
    "print(\"This is the result with H: \\n\", total_results_with_H)"
   ]
  },
  {
   "cell_type": "markdown",
   "id": "798e385f",
   "metadata": {},
   "source": [
    "The `run_range` function is designed to quickly scan a range of radii values.\n",
    "\n",
    "Do not be alarmed by the `No volume could be found` warning, this simply means that the desired radius was too small or too large.\n",
    "The program will function as desired even with a few values missing."
   ]
  },
  {
   "cell_type": "code",
   "execution_count": null,
   "id": "d91fa2b7",
   "metadata": {},
   "outputs": [],
   "source": [
    "df_scan_1_63 = msc_test.run_range(r_min=1, r_max=6.3, nsteps=40, n_threads=-1)"
   ]
  },
  {
   "cell_type": "markdown",
   "id": "435c8a5c",
   "metadata": {},
   "source": [
    "With `.head()` one can take a look at the generated dataframe"
   ]
  },
  {
   "cell_type": "code",
   "execution_count": null,
   "id": "b36ebd1a",
   "metadata": {},
   "outputs": [],
   "source": [
    "df_scan_1_63.head(10)"
   ]
  },
  {
   "cell_type": "markdown",
   "id": "4af2665f",
   "metadata": {},
   "source": [
    "This DataFrame object can also be directly saved as a csv file."
   ]
  },
  {
   "cell_type": "code",
   "execution_count": null,
   "id": "efbcf5b5",
   "metadata": {},
   "outputs": [],
   "source": [
    "len(df_scan_1_63)"
   ]
  },
  {
   "cell_type": "code",
   "execution_count": null,
   "id": "04fb009d",
   "metadata": {},
   "outputs": [],
   "source": [
    "df_scan_1_63.to_csv(\"my_scv_name.csv\")"
   ]
  },
  {
   "cell_type": "markdown",
   "id": "7c6e7718",
   "metadata": {},
   "source": [
    "# Visualisation of the results"
   ]
  },
  {
   "cell_type": "markdown",
   "id": "a7f4fa23",
   "metadata": {},
   "source": [
    "The DataFrame object can be directly plotted in python."
   ]
  },
  {
   "cell_type": "markdown",
   "id": "045c48ad",
   "metadata": {},
   "source": [
    "When plotting in python one needs to pass the previously generated dataFrame to the `plot_graph` function.\n",
    "\n",
    "Additionally one can choose which columns from the DataFrame are used for the plot creation by adding `y_data=total_volume` or `x_data=free_volume`.\n",
    "Why one would do that I do not know.\n",
    "\n",
    "By default the `percent_buried_volume` is plotted against the radius."
   ]
  },
  {
   "cell_type": "code",
   "execution_count": null,
   "id": "921165fd",
   "metadata": {},
   "outputs": [],
   "source": [
    "msc_test.plot_graph(df_scan_1_63)"
   ]
  },
  {
   "cell_type": "markdown",
   "id": "431876c4",
   "metadata": {},
   "source": [
    "To save a figure simply add the `save_fig=\"my_filename.png\"` option.\n",
    "\n",
    "It is also possible to change the x and y labels as well as the title.\n",
    "\n",
    "Many more options can be found under: https://pandas.pydata.org/docs/reference/api/pandas.DataFrame.plot.html"
   ]
  },
  {
   "cell_type": "code",
   "execution_count": null,
   "id": "fc87732f",
   "metadata": {},
   "outputs": [],
   "source": [
    "msc_test.plot_graph(\n",
    "    df_scan_1_63,\n",
    "    save_file=\"buried_volume_scan_1_63.png\",\n",
    "    title=\"This is an example title that will also be saved\",\n",
    "    xlabel=\"Radius r\",\n",
    "    ylabel=\"% buried volume\",\n",
    ")"
   ]
  },
  {
   "cell_type": "code",
   "execution_count": null,
   "id": "7eb362fd",
   "metadata": {},
   "outputs": [],
   "source": []
  },
  {
   "cell_type": "code",
   "execution_count": null,
   "id": "1977327e",
   "metadata": {},
   "outputs": [],
   "source": []
  }
 ],
 "metadata": {
  "interpreter": {
   "hash": "a8dc3ff9539a16136eba353f0111f7894afca1786f85a985347756b1d8e57064"
  },
  "kernelspec": {
   "display_name": "Python 3.9.0 ('molecule_scanner')",
   "language": "python",
   "name": "python3"
  },
  "language_info": {
   "codemirror_mode": {
    "name": "ipython",
    "version": 3
   },
   "file_extension": ".py",
   "mimetype": "text/x-python",
   "name": "python",
   "nbconvert_exporter": "python",
   "pygments_lexer": "ipython3",
   "version": "3.9.0"
  }
 },
 "nbformat": 4,
 "nbformat_minor": 5
}
