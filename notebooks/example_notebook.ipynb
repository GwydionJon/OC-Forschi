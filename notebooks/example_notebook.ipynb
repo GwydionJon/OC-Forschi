{
 "cells": [
  {
   "cell_type": "markdown",
   "id": "ddd653fa",
   "metadata": {},
   "source": [
    "# Introduction"
   ]
  },
  {
   "cell_type": "code",
   "execution_count": 1,
   "id": "3c0c9366",
   "metadata": {},
   "outputs": [],
   "source": [
    "from py2sambvca import p2s\n",
    "\n",
    "import numpy as np"
   ]
  },
  {
   "cell_type": "markdown",
   "id": "f71828d3",
   "metadata": {},
   "source": [
    "Potential setup for the program.\n",
    "At this point no graphical interface is implemented.\n",
    "\n",
    "For `remove_H`, `orient_z` and `write_surf_files` only the values `0` and `1` are possible "
   ]
  },
  {
   "cell_type": "code",
   "execution_count": 8,
   "id": "a439ece3",
   "metadata": {},
   "outputs": [],
   "source": [
    "nhc_p2s = p2s(\n",
    "    #xyz_filepath=\"../test/data/nhc.xyz\",\n",
    "    xyz_filepath = \"../mad25_p.xyz\",\n",
    "    sphere_center_atom_ids=[1],\n",
    "    z_ax_atom_ids=[5],\n",
    "    xz_plane_atoms_ids=[9],\n",
    "    atoms_to_delete_ids=None,\n",
    "    sphere_radius=3.5,\n",
    "    displacement=0.0,\n",
    "    mesh_size=0.10,\n",
    "    remove_H=True,\n",
    "    orient_z=True,\n",
    "    write_surf_files=True,\n",
    ")"
   ]
  },
  {
   "cell_type": "markdown",
   "id": "798e385f",
   "metadata": {},
   "source": [
    "The `run_range` function is designed to quickly scan a range of radii values."
   ]
  },
  {
   "cell_type": "code",
   "execution_count": 9,
   "id": "fbde193b",
   "metadata": {},
   "outputs": [
    {
     "name": "stdout",
     "output_type": "stream",
     "text": [
      "The calculation for 3.5 could not produce a suitable result. Most likely this is due to the chosen radius beeing too large or too small.\n"
     ]
    },
    {
     "data": {
      "text/plain": [
       "({'free_volume': 0.0,\n",
       "  'buried_volume': 0.0,\n",
       "  'total_volume': 0.0,\n",
       "  'exact_volume': 0.0,\n",
       "  'percent_buried_volume': 0.0,\n",
       "  'percent_free_volume': 0.0,\n",
       "  'percent_total_volume': 0.0},\n",
       " {'free_volume': {'SW': 44.9,\n",
       "   'NW': 44.9,\n",
       "   'NE': 44.9,\n",
       "   'SE': 44.9,\n",
       "   'SW-z': 22.4,\n",
       "   'NW-z': 22.4,\n",
       "   'NE-z': 22.4,\n",
       "   'SE-z': 22.4,\n",
       "   'SW+z': 22.4,\n",
       "   'NW+z': 22.4,\n",
       "   'NE+z': 22.4,\n",
       "   'SE+z': 22.4},\n",
       "  'buried_volume': {'SW': 0.0,\n",
       "   'NW': 0.0,\n",
       "   'NE': 0.0,\n",
       "   'SE': 0.0,\n",
       "   'SW-z': 0.0,\n",
       "   'NW-z': 0.0,\n",
       "   'NE-z': 0.0,\n",
       "   'SE-z': 0.0,\n",
       "   'SW+z': 0.0,\n",
       "   'NW+z': 0.0,\n",
       "   'NE+z': 0.0,\n",
       "   'SE+z': 0.0},\n",
       "  'total_volume': {'SW': 44.9,\n",
       "   'NW': 44.9,\n",
       "   'NE': 44.9,\n",
       "   'SE': 44.9,\n",
       "   'SW-z': 22.4,\n",
       "   'NW-z': 22.4,\n",
       "   'NE-z': 22.4,\n",
       "   'SE-z': 22.4,\n",
       "   'SW+z': 22.4,\n",
       "   'NW+z': 22.4,\n",
       "   'NE+z': 22.4,\n",
       "   'SE+z': 22.4},\n",
       "  'percent_free_volume': {'SW': 100.0,\n",
       "   'NW': 100.0,\n",
       "   'NE': 100.0,\n",
       "   'SE': 100.0,\n",
       "   'SW-z': 100.0,\n",
       "   'NW-z': 100.0,\n",
       "   'NE-z': 100.0,\n",
       "   'SE-z': 100.0,\n",
       "   'SW+z': 100.0,\n",
       "   'NW+z': 100.0,\n",
       "   'NE+z': 100.0,\n",
       "   'SE+z': 100.0},\n",
       "  'percent_buried_volume': {'SW': 0.0,\n",
       "   'NW': 0.0,\n",
       "   'NE': 0.0,\n",
       "   'SE': 0.0,\n",
       "   'SW-z': 0.0,\n",
       "   'NW-z': 0.0,\n",
       "   'NE-z': 0.0,\n",
       "   'SE-z': 0.0,\n",
       "   'SW+z': 0.0,\n",
       "   'NW+z': 0.0,\n",
       "   'NE+z': 0.0,\n",
       "   'SE+z': 0.0}},\n",
       " {'free_volume': {'SW': 44.9,\n",
       "   'NW': 44.9,\n",
       "   'NE': 44.9,\n",
       "   'SE': 44.9,\n",
       "   'SW-z': 22.4,\n",
       "   'NW-z': 22.4,\n",
       "   'NE-z': 22.4,\n",
       "   'SE-z': 22.4,\n",
       "   'SW+z': 22.4,\n",
       "   'NW+z': 22.4,\n",
       "   'NE+z': 22.4,\n",
       "   'SE+z': 22.4},\n",
       "  'buried_volume': {'SW': 0.0,\n",
       "   'NW': 0.0,\n",
       "   'NE': 0.0,\n",
       "   'SE': 0.0,\n",
       "   'SW-z': 0.0,\n",
       "   'NW-z': 0.0,\n",
       "   'NE-z': 0.0,\n",
       "   'SE-z': 0.0,\n",
       "   'SW+z': 0.0,\n",
       "   'NW+z': 0.0,\n",
       "   'NE+z': 0.0,\n",
       "   'SE+z': 0.0},\n",
       "  'total_volume': {'SW': 44.9,\n",
       "   'NW': 44.9,\n",
       "   'NE': 44.9,\n",
       "   'SE': 44.9,\n",
       "   'SW-z': 22.4,\n",
       "   'NW-z': 22.4,\n",
       "   'NE-z': 22.4,\n",
       "   'SE-z': 22.4,\n",
       "   'SW+z': 22.4,\n",
       "   'NW+z': 22.4,\n",
       "   'NE+z': 22.4,\n",
       "   'SE+z': 22.4},\n",
       "  'percent_free_volume': {'SW': 100.0,\n",
       "   'NW': 100.0,\n",
       "   'NE': 100.0,\n",
       "   'SE': 100.0,\n",
       "   'SW-z': 100.0,\n",
       "   'NW-z': 100.0,\n",
       "   'NE-z': 100.0,\n",
       "   'SE-z': 100.0,\n",
       "   'SW+z': 100.0,\n",
       "   'NW+z': 100.0,\n",
       "   'NE+z': 100.0,\n",
       "   'SE+z': 100.0},\n",
       "  'percent_buried_volume': {'SW': 0.0,\n",
       "   'NW': 0.0,\n",
       "   'NE': 0.0,\n",
       "   'SE': 0.0,\n",
       "   'SW-z': 0.0,\n",
       "   'NW-z': 0.0,\n",
       "   'NE-z': 0.0,\n",
       "   'SE-z': 0.0,\n",
       "   'SW+z': 0.0,\n",
       "   'NW+z': 0.0,\n",
       "   'NE+z': 0.0,\n",
       "   'SE+z': 0.0}})"
      ]
     },
     "execution_count": 9,
     "metadata": {},
     "output_type": "execute_result"
    }
   ],
   "source": [
    "nhc_p2s.run()"
   ]
  },
  {
   "cell_type": "code",
   "execution_count": 4,
   "id": "dca9dc3d",
   "metadata": {},
   "outputs": [],
   "source": [
    "#df_test = nhc_p2s.run_range(4, 5,1)"
   ]
  },
  {
   "cell_type": "code",
   "execution_count": 5,
   "id": "921165fd",
   "metadata": {},
   "outputs": [],
   "source": [
    "#df_test.plot(\"r\", \"buried_volume\")"
   ]
  },
  {
   "cell_type": "code",
   "execution_count": null,
   "id": "fc87732f",
   "metadata": {},
   "outputs": [],
   "source": []
  }
 ],
 "metadata": {
  "interpreter": {
   "hash": "213a256e8329d40742404b9679437c3b390338f6625e649a654953287e0b5d38"
  },
  "kernelspec": {
   "display_name": "Python 3.9.0 ('py2sambvca')",
   "language": "python",
   "name": "python3"
  },
  "language_info": {
   "codemirror_mode": {
    "name": "ipython",
    "version": 3
   },
   "file_extension": ".py",
   "mimetype": "text/x-python",
   "name": "python",
   "nbconvert_exporter": "python",
   "pygments_lexer": "ipython3",
   "version": "3.9.0"
  }
 },
 "nbformat": 4,
 "nbformat_minor": 5
}
