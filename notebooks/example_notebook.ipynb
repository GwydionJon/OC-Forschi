{
 "cells": [
  {
   "cell_type": "markdown",
   "id": "ddd653fa",
   "metadata": {},
   "source": [
    "# Introduction"
   ]
  },
  {
   "cell_type": "code",
   "execution_count": null,
   "id": "3c0c9366",
   "metadata": {},
   "outputs": [],
   "source": [
    "# don't touch this\n",
    "from molecule_scanner import *"
   ]
  },
  {
   "cell_type": "markdown",
   "id": "f71828d3",
   "metadata": {},
   "source": [
    "To use this program one must first setup the molecule that is to be scanned.\n",
    "\n",
    "For this one needs a valid `.xyz` file as well as the atom numbers for the center, the z-axis as well as the xz plane.\n",
    "\n",
    "Please note, that counting begins with 1 and not 0.\n",
    "\n",
    "\n",
    "\n",
    "\n",
    "\n"
   ]
  },
  {
   "cell_type": "markdown",
   "id": "0be41656",
   "metadata": {},
   "source": [
    "to open a file dialog remove the argument of `set_data_directory`."
   ]
  },
  {
   "cell_type": "code",
   "execution_count": null,
   "id": "9f3de4df",
   "metadata": {},
   "outputs": [],
   "source": [
    "# set_data_directory() # opens a file dialog.\n",
    "set_data_directory(\"example_data\", create_dir=True)"
   ]
  },
  {
   "cell_type": "code",
   "execution_count": null,
   "id": "a439ece3",
   "metadata": {},
   "outputs": [],
   "source": [
    "msc_test = msc(\n",
    "    xyz_filepath=\"mad25_p.xyz\",\n",
    "    sphere_center_atom_ids=[1],\n",
    "    z_ax_atom_ids=[1, 2],\n",
    "    xz_plane_atoms_ids=[1, 3, 9],\n",
    "    atoms_to_delete_ids=[1, 2],\n",
    "    # working_dir=\"*/\",\n",
    ")"
   ]
  },
  {
   "cell_type": "markdown",
   "id": "c2f8ff9c",
   "metadata": {},
   "source": [
    "To run a calculation at a single radius use the `.run_single` method.\n",
    "\n",
    "This method provides a bunch of additional parameters, most of which have decent default arguments.\n",
    "\n",
    "\n",
    "```sphere_radius (float): The radius of the sphere. \n",
    "\n",
    "displacement (float): Displacement of oriented molecule from sphere center in Angstrom (default 0.0)\n",
    "\n",
    "mesh_size (float): Mesh size for numerical integration (default 0.10)\n",
    "\n",
    "remove_H (bool): True/False Do not remove/remove H atoms from Vbur calculation (default True)\n",
    "\n",
    "orient_z (bool): True/False Molecule oriented along negative/positive Z-axis (default True)\n",
    "\n",
    "write_surf_files (bool): True/False Do not write/write files for top and bottom surfaces (default True)\n"
   ]
  },
  {
   "cell_type": "code",
   "execution_count": null,
   "id": "fbde193b",
   "metadata": {},
   "outputs": [],
   "source": [
    "(\n",
    "    total_results_without_H,\n",
    "    quadrant_results_without_H,\n",
    "    octant_results_without_H,\n",
    ") = msc_test.run_single(sphere_radius=3.5)"
   ]
  },
  {
   "cell_type": "code",
   "execution_count": null,
   "id": "40a43032",
   "metadata": {},
   "outputs": [],
   "source": [
    "(\n",
    "    total_results_with_H,\n",
    "    quadrant_results_with_H,\n",
    "    octant_results_with_H,\n",
    ") = msc_test.run_single(sphere_radius=3.5, remove_H=False)"
   ]
  },
  {
   "cell_type": "markdown",
   "id": "0e5679f1",
   "metadata": {},
   "source": [
    "To view results use the `print` command.\n",
    "You can also add additional text to make the output clearer."
   ]
  },
  {
   "cell_type": "code",
   "execution_count": null,
   "id": "5bcdc976",
   "metadata": {},
   "outputs": [],
   "source": [
    "print(total_results_without_H)"
   ]
  },
  {
   "cell_type": "code",
   "execution_count": null,
   "id": "fad56ac8",
   "metadata": {},
   "outputs": [],
   "source": [
    "print(\"This is the result with H: \\n\", total_results_with_H)"
   ]
  },
  {
   "cell_type": "markdown",
   "id": "798e385f",
   "metadata": {},
   "source": [
    "The `run_range` function is designed to quickly scan a range of radii values.\n",
    "\n",
    "Do not be alarmed by the `No volume could be found` warning, this simply means that the desired radius was too small or too large.\n",
    "The program will function as desired even with a few values missing."
   ]
  },
  {
   "cell_type": "code",
   "execution_count": null,
   "id": "d91fa2b7",
   "metadata": {},
   "outputs": [],
   "source": [
    "df_scan_1_63 = msc_test.run_range(r_min=1, r_max=7, nsteps=40, n_threads=-1)"
   ]
  },
  {
   "cell_type": "markdown",
   "id": "435c8a5c",
   "metadata": {},
   "source": [
    "With `.head()` one can take a look at the generated dataframe"
   ]
  },
  {
   "cell_type": "code",
   "execution_count": null,
   "id": "b36ebd1a",
   "metadata": {},
   "outputs": [],
   "source": [
    "df_scan_1_63.head(10)"
   ]
  },
  {
   "cell_type": "markdown",
   "id": "4af2665f",
   "metadata": {},
   "source": [
    "This DataFrame object can also be directly saved as a csv file.\n",
    "\n",
    "The first method opens a file dialog, the second directly saves the file."
   ]
  },
  {
   "cell_type": "code",
   "execution_count": null,
   "id": "04fb009d",
   "metadata": {},
   "outputs": [],
   "source": [
    "# df_scan_1_63.to_csv(asksaveasfile())\n",
    "\n",
    "df_scan_1_63.to_csv(\"test_file.csv\")"
   ]
  },
  {
   "cell_type": "markdown",
   "id": "7c6e7718",
   "metadata": {},
   "source": [
    "# Visualisation of the results"
   ]
  },
  {
   "cell_type": "markdown",
   "id": "a7f4fa23",
   "metadata": {},
   "source": [
    "The DataFrame object can be directly plotted in python."
   ]
  },
  {
   "cell_type": "markdown",
   "id": "045c48ad",
   "metadata": {},
   "source": [
    "When plotting in python one needs to pass the previously generated dataFrame to the `plot_graph` function.\n",
    "\n",
    "Additionally one can choose which columns from the DataFrame are used for the plot creation by adding `y_data=total_volume` or `x_data=free_volume`.\n",
    "Why one would do that I do not know.\n",
    "\n",
    "By default the `percent_buried_volume` is plotted against the radius."
   ]
  },
  {
   "cell_type": "code",
   "execution_count": null,
   "id": "921165fd",
   "metadata": {},
   "outputs": [],
   "source": [
    "msc_test.plot_graph(df_scan_1_63)"
   ]
  },
  {
   "cell_type": "markdown",
   "id": "99b88d58",
   "metadata": {},
   "source": [
    "## Cavity visualisation\n",
    "\n",
    "The cavity visualization offers three different modes, viewing the top, the bottom and a 3D representation.\n",
    "Warning: on weak machines the 3D plot can struggle to remain smooth with high resolution plots."
   ]
  },
  {
   "cell_type": "code",
   "execution_count": null,
   "id": "1977327e",
   "metadata": {},
   "outputs": [],
   "source": [
    "msc_test.visualize_cavity(3.5, 0.05)"
   ]
  },
  {
   "cell_type": "code",
   "execution_count": null,
   "id": "983aa53c",
   "metadata": {},
   "outputs": [],
   "source": []
  }
 ],
 "metadata": {
  "interpreter": {
   "hash": "a8dc3ff9539a16136eba353f0111f7894afca1786f85a985347756b1d8e57064"
  },
  "kernelspec": {
   "display_name": "Python 3.9.0 ('molecule_scanner')",
   "language": "python",
   "name": "python3"
  },
  "language_info": {
   "codemirror_mode": {
    "name": "ipython",
    "version": 3
   },
   "file_extension": ".py",
   "mimetype": "text/x-python",
   "name": "python",
   "nbconvert_exporter": "python",
   "pygments_lexer": "ipython3",
   "version": "3.9.0"
  }
 },
 "nbformat": 4,
 "nbformat_minor": 5
}
